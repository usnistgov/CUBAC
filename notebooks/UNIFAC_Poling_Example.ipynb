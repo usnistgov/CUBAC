{
 "cells": [
  {
   "cell_type": "markdown",
   "metadata": {},
   "source": [
    "# UNIFAQ TEST"
   ]
  },
  {
   "cell_type": "code",
   "execution_count": 3,
   "metadata": {
    "collapsed": true
   },
   "outputs": [],
   "source": [
    "from IPython.display import display, Math, Latex\n",
    "from IPython.core.display import display_html"
   ]
  },
  {
   "cell_type": "code",
   "execution_count": 6,
   "metadata": {
    "collapsed": false
   },
   "outputs": [
    {
     "data": {
      "text/html": [
       "<div>\n",
       "<table border=\"1\" class=\"dataframe\">\n",
       "  <thead>\n",
       "    <tr style=\"text-align: right;\">\n",
       "      <th></th>\n",
       "      <th>l</th>\n",
       "      <th>phi</th>\n",
       "      <th>q</th>\n",
       "      <th>r</th>\n",
       "      <th>theta</th>\n",
       "    </tr>\n",
       "  </thead>\n",
       "  <tbody>\n",
       "    <tr>\n",
       "      <th>0</th>\n",
       "      <td>-0.3860</td>\n",
       "      <td>0.032113</td>\n",
       "      <td>2.336</td>\n",
       "      <td>2.5735</td>\n",
       "      <td>0.033576</td>\n",
       "    </tr>\n",
       "    <tr>\n",
       "      <th>1</th>\n",
       "      <td>-0.2784</td>\n",
       "      <td>0.967887</td>\n",
       "      <td>3.316</td>\n",
       "      <td>3.8254</td>\n",
       "      <td>0.966424</td>\n",
       "    </tr>\n",
       "  </tbody>\n",
       "</table>\n",
       "</div>"
      ],
      "text/plain": [
       "        l       phi      q       r     theta\n",
       "0 -0.3860  0.032113  2.336  2.5735  0.033576\n",
       "1 -0.2784  0.967887  3.316  3.8254  0.966424"
      ]
     },
     "metadata": {},
     "output_type": "display_data"
    },
    {
     "data": {
      "text/latex": [
       "$$\\ln\\gamma_{1}^C = -0.0527172612915$$"
      ],
      "text/plain": [
       "<IPython.core.display.Math object>"
      ]
     },
     "metadata": {},
     "output_type": "display_data"
    },
    {
     "data": {
      "text/latex": [
       "$$\\ln\\gamma_{1}^C = -0.000101769412499$$"
      ],
      "text/plain": [
       "<IPython.core.display.Math object>"
      ]
     },
     "metadata": {},
     "output_type": "display_data"
    },
    {
     "data": {
      "text/latex": [
       "$$X_1^{(1)} = 0.5$$"
      ],
      "text/plain": [
       "<IPython.core.display.Math object>"
      ]
     },
     "metadata": {},
     "output_type": "display_data"
    },
    {
     "data": {
      "text/latex": [
       "$$X_{18}^{(1)} = 0.5$$"
      ],
      "text/plain": [
       "<IPython.core.display.Math object>"
      ]
     },
     "metadata": {},
     "output_type": "display_data"
    },
    {
     "data": {
      "text/latex": [
       "$$\\theta_1^{(1)} = 0.36301369863$$"
      ],
      "text/plain": [
       "<IPython.core.display.Math object>"
      ]
     },
     "metadata": {},
     "output_type": "display_data"
    },
    {
     "data": {
      "text/latex": [
       "$$\\theta_{18}^{(1)} = 0.63698630137$$"
      ],
      "text/plain": [
       "<IPython.core.display.Math object>"
      ]
     },
     "metadata": {},
     "output_type": "display_data"
    },
    {
     "data": {
      "text/latex": [
       "$$\\ln\\Gamma_1^{(1)} = 0.408901932174$$"
      ],
      "text/plain": [
       "<IPython.core.display.Math object>"
      ]
     },
     "metadata": {},
     "output_type": "display_data"
    },
    {
     "data": {
      "text/latex": [
       "$$\\ln\\Gamma_{18}^{(1)} = 0.138911460877$$"
      ],
      "text/plain": [
       "<IPython.core.display.Math object>"
      ]
     },
     "metadata": {},
     "output_type": "display_data"
    },
    {
     "data": {
      "text/latex": [
       "$$X_1^{(2)} = 0.4$$"
      ],
      "text/plain": [
       "<IPython.core.display.Math object>"
      ]
     },
     "metadata": {},
     "output_type": "display_data"
    },
    {
     "data": {
      "text/latex": [
       "$$X_{2}^{(2)} = 0.6$$"
      ],
      "text/plain": [
       "<IPython.core.display.Math object>"
      ]
     },
     "metadata": {},
     "output_type": "display_data"
    },
    {
     "data": {
      "text/latex": [
       "$$\\theta_1^{(1)} = 0.511459589867$$"
      ],
      "text/plain": [
       "<IPython.core.display.Math object>"
      ]
     },
     "metadata": {},
     "output_type": "display_data"
    },
    {
     "data": {
      "text/latex": [
       "$$\\theta_{2}^{(1)} = 0.488540410133$$"
      ],
      "text/plain": [
       "<IPython.core.display.Math object>"
      ]
     },
     "metadata": {},
     "output_type": "display_data"
    },
    {
     "data": {
      "text/latex": [
       "$$\\ln\\Gamma_1^{(2)} = 0.0$$"
      ],
      "text/plain": [
       "<IPython.core.display.Math object>"
      ]
     },
     "metadata": {},
     "output_type": "display_data"
    },
    {
     "data": {
      "text/latex": [
       "$$\\ln\\Gamma_{2}^{(2)} = 0.0$$"
      ],
      "text/plain": [
       "<IPython.core.display.Math object>"
      ]
     },
     "metadata": {},
     "output_type": "display_data"
    },
    {
     "name": "stdout",
     "output_type": "stream",
     "text": [
      "4.859\n"
     ]
    },
    {
     "data": {
      "text/latex": [
       "$$X_{1} = 0.401934554435$$"
      ],
      "text/plain": [
       "<IPython.core.display.Math object>"
      ]
     },
     "metadata": {},
     "output_type": "display_data"
    },
    {
     "data": {
      "text/latex": [
       "$$X_{2} = 0.58839267339$$"
      ],
      "text/plain": [
       "<IPython.core.display.Math object>"
      ]
     },
     "metadata": {},
     "output_type": "display_data"
    },
    {
     "data": {
      "text/latex": [
       "$$X_{18} = 0.00967277217534$$"
      ],
      "text/plain": [
       "<IPython.core.display.Math object>"
      ]
     },
     "metadata": {},
     "output_type": "display_data"
    },
    {
     "data": {
      "text/latex": [
       "$$\\theta_{1} = 0.506475348172$$"
      ],
      "text/plain": [
       "<IPython.core.display.Math object>"
      ]
     },
     "metadata": {},
     "output_type": "display_data"
    },
    {
     "data": {
      "text/latex": [
       "$$\\theta_{2} = 0.472137103433$$"
      ],
      "text/plain": [
       "<IPython.core.display.Math object>"
      ]
     },
     "metadata": {},
     "output_type": "display_data"
    },
    {
     "data": {
      "text/latex": [
       "$$\\theta_{18} = 0.0213875483954$$"
      ],
      "text/plain": [
       "<IPython.core.display.Math object>"
      ]
     },
     "metadata": {},
     "output_type": "display_data"
    },
    {
     "data": {
      "text/latex": [
       "$$\\ln\\Gamma_{1} = 0.00136769255879$$"
      ],
      "text/plain": [
       "<IPython.core.display.Math object>"
      ]
     },
     "metadata": {},
     "output_type": "display_data"
    },
    {
     "data": {
      "text/latex": [
       "$$\\ln\\Gamma_{2} = 0.00087093629923$$"
      ],
      "text/plain": [
       "<IPython.core.display.Math object>"
      ]
     },
     "metadata": {},
     "output_type": "display_data"
    },
    {
     "data": {
      "text/latex": [
       "$$\\ln\\Gamma_{18} = 2.20700646612$$"
      ],
      "text/plain": [
       "<IPython.core.display.Math object>"
      ]
     },
     "metadata": {},
     "output_type": "display_data"
    },
    {
     "data": {
      "text/latex": [
       "$$\\ln\\gamma_1^{\\rm R} = 1.66056076563$$"
      ],
      "text/plain": [
       "<IPython.core.display.Math object>"
      ]
     },
     "metadata": {},
     "output_type": "display_data"
    },
    {
     "data": {
      "text/latex": [
       "$$\\ln\\gamma_2^{\\rm R} = 0.00534819401527$$"
      ],
      "text/plain": [
       "<IPython.core.display.Math object>"
      ]
     },
     "metadata": {},
     "output_type": "display_data"
    },
    {
     "data": {
      "text/latex": [
       "$$\\gamma_1 = 4.99203431148$$"
      ],
      "text/plain": [
       "<IPython.core.display.Math object>"
      ]
     },
     "metadata": {},
     "output_type": "display_data"
    },
    {
     "data": {
      "text/latex": [
       "$$\\gamma_2 = 1.00526021119$$"
      ],
      "text/plain": [
       "<IPython.core.display.Math object>"
      ]
     },
     "metadata": {},
     "output_type": "display_data"
    }
   ],
   "source": [
    "from __future__ import division, print_function\n",
    "import pandas, numpy as np, itertools, six\n",
    "\n",
    "class UNIFAQLoader():\n",
    "    def __init__(self):\n",
    "        self.df_components = pandas.read_excel('Horstmann.xlsx','Components')\n",
    "        self.df_groups = pandas.read_excel('Horstmann.xlsx','Groups')\n",
    "        self.df_interaction = pandas.read_excel('Horstmann.xlsx','InteractionParameters')\n",
    "        self.df_interaction = self.df_interaction.fillna(0.0)\n",
    "\n",
    "    def get_component(self, CAS):\n",
    "        mask = (self.df_components['CAS-nr.'] == CAS)\n",
    "        if np.sum(mask) == 0: raise KeyError(\"Cannot match CAS #: \"+CAS)\n",
    "        groups_string = self.df_components.loc[mask,'increments [counter * sub group number]'].iloc[0]\n",
    "        groups = []\n",
    "        for grouping in groups_string.replace(u'\\xd7','*').split(';'):\n",
    "            count, sub_group_index = grouping.strip().split('*')\n",
    "            groups.append(dict(count=int(count), sub_group_index = int(sub_group_index)))\n",
    "        return groups\n",
    "\n",
    "    def get_group_parameters(self, sub_group_index):\n",
    "        mask = (self.df_groups['sub group index'] == sub_group_index)\n",
    "        if np.sum(mask) == 0: raise KeyError(\"Cannot match sub group index #: \" + sub_group_index)\n",
    "        return dict(R_k = self.df_groups.loc[mask,'Rk'].iloc[0], \n",
    "                    Q_k = self.df_groups.loc[mask,'Qk'].iloc[0],\n",
    "                    main_group_index = self.df_groups.loc[mask,'main group index'].iloc[0])\n",
    "\n",
    "    def get_interaction_parameters(self, main_group_index1, main_group_index2):\n",
    "        if main_group_index1 == main_group_index2: return dict(aij=0,aji=0,bij=0,bji=0,cij=0,cji=0)\n",
    "        if main_group_index1 < main_group_index2:\n",
    "            mask = ((self.df_interaction['i'] == main_group_index1) & (self.df_interaction['j'] == main_group_index2))\n",
    "            if np.sum(mask) == 0: raise KeyError(\"Cannot match i= \" + main_group_index1 + ' j=' + main_group_index2)\n",
    "            return dict(aij = self.df_interaction.loc[mask,'aij / K'].iloc[0],\n",
    "                        aji = self.df_interaction.loc[mask,'aji / K'].iloc[0],\n",
    "                        bij = self.df_interaction.loc[mask,'bij'].iloc[0],\n",
    "                        bji = self.df_interaction.loc[mask,'bji'].iloc[0],\n",
    "                        cij = self.df_interaction.loc[mask,'cij / K-1'].iloc[0],\n",
    "                        cji = self.df_interaction.loc[mask,'cji / K-1'].iloc[0],\n",
    "                        )\n",
    "        else:\n",
    "            mask = ((self.df_interaction['j'] == main_group_index1) & (self.df_interaction['i'] == main_group_index2))\n",
    "            if np.sum(mask) == 0: raise KeyError(\"Cannot match i= \" + main_group_index1 + ' j=' + main_group_index2)\n",
    "            return dict(aij = self.df_interaction.loc[mask,'aji / K'].iloc[0],\n",
    "                        aji = self.df_interaction.loc[mask,'aij / K'].iloc[0],\n",
    "                        bij = self.df_interaction.loc[mask,'bji'].iloc[0],\n",
    "                        bji = self.df_interaction.loc[mask,'bij'].iloc[0],\n",
    "                        cij = self.df_interaction.loc[mask,'cji / K-1'].iloc[0],\n",
    "                        cji = self.df_interaction.loc[mask,'cij / K-1'].iloc[0]\n",
    "                        )\n",
    "\n",
    "\n",
    "class UNIFAQMixture(object):\n",
    "    def __init__(self, components, z, T):\n",
    "        self.pures = self.decompose_components(components)\n",
    "        self.interaction = self.load_interaction_parameters()\n",
    "        self.z = np.array(z)\n",
    "        self.T = T\n",
    "        self.calculate_pures(self.z)\n",
    "        self.calculate_subgroup_counts()\n",
    "\n",
    "    def calculate_pures(self, z):\n",
    "        self.r = np.zeros_like(z)\n",
    "        self.q = np.zeros_like(z)\n",
    "        self.l = np.zeros_like(z)\n",
    "        self.theta = np.zeros_like(z)\n",
    "        self.phi = np.zeros_like(z)\n",
    "        self.ln_phi_C = np.zeros_like(z)\n",
    "        self.Ngroups = np.zeros_like(z, dtype = int)\n",
    "        for i in range(len(z)):\n",
    "            self.r[i] = sum([g['count']*g['R_k'] for g in self.pures[i]])\n",
    "            self.q[i] = sum([g['count']*g['Q_k'] for g in self.pures[i]])\n",
    "            self.Ngroups[i] = sum([g['count'] for g in self.pures[i]])\n",
    "        for i in range(len(z)):\n",
    "            self.phi[i] = (self.r[i]*self.z[i])/np.sum(self.z*self.r)\n",
    "            self.theta[i] = (self.q[i]*self.z[i])/np.sum(self.z*self.q)\n",
    "            self.l[i] = 10.0/2.0*(self.r[i] - self.q[i]) - (self.r[i]-1)\n",
    "        self.ln_gamma_C = np.log(self.phi/self.z) + 10.0/2.0*self.q*np.log(self.theta/self.phi) + self.l - self.phi/self.z*sum(self.z*self.l)\n",
    "\n",
    "    def calculate_subgroup_counts(self):\n",
    "        self.subgroup_counts = {}\n",
    "        for sgi in self.sub_groups_present:\n",
    "            sgc = np.zeros_like(self.z)\n",
    "            for i in range(len(self.z)):\n",
    "                for group in self.pures[i]:\n",
    "                    if group['sub_group_index'] == sgi:\n",
    "                        sgc[i] = group['count']\n",
    "            self.subgroup_counts[sgi] = sgc\n",
    "\n",
    "    def decompose_components(self, components):\n",
    "        self.UNIFAQ = UNIFAQLoader()\n",
    "        pures = []\n",
    "        for CAS in components:\n",
    "            pure = []\n",
    "            for group in self.UNIFAQ.get_component(CAS):\n",
    "                group_params = self.UNIFAQ.get_group_parameters(group['sub_group_index'])\n",
    "                group.update(group_params)\n",
    "                pure.append(group)\n",
    "            pures.append(pure)\n",
    "        return pures\n",
    "\n",
    "    def load_interaction_parameters(self):\n",
    "        # Get all the sub- and main-group indices\n",
    "        indices = []\n",
    "        for pure in self.pures:\n",
    "            indices += [(g['sub_group_index'], g['main_group_index']) for g in pure]\n",
    "        # Keep only unique entries\n",
    "        indices = list(set(indices))\n",
    "        \n",
    "        # Mapping from sub group index to main group index\n",
    "        mgi_mapping = {sgi:mgi for sgi, mgi in indices}\n",
    "        # Unpack the indices\n",
    "        sub_group_indices, main_group_indices = zip(*indices)\n",
    "        # Store the list of subgroups that are present\n",
    "        self.sub_groups_present = sub_group_indices\n",
    "        # Get all the permutations of sub-group interactions\n",
    "        interaction = {}\n",
    "        for sgi1,sgi2 in itertools.product(sub_group_indices, repeat=2):\n",
    "            # Map to main group index\n",
    "            i = mgi_mapping[sgi1]\n",
    "            j = mgi_mapping[sgi2]\n",
    "            \n",
    "            interaction[(sgi1,sgi2)] = self.UNIFAQ.get_interaction_parameters(i, j)\n",
    "            interaction[(sgi2,sgi1)] = self.UNIFAQ.get_interaction_parameters(j, i)\n",
    "        return interaction\n",
    "\n",
    "    def pure_i(self, i):\n",
    "        return dict(q = self.q[i], r = self.r[i], phi = self.phi[i], theta = self.theta[i], l = self.l[i])\n",
    "\n",
    "    def X_pure_i(self, i, as_dict = False):\n",
    "        \"\"\" List of mole fractions of sub group indices \"\"\"\n",
    "        sub_group_indices,counts,Q = zip(*[(g['sub_group_index'],g['count'],g['Q_k']) for g in self.pures[i]])\n",
    "        total = sum(counts)\n",
    "        data = [(sgi, count/total, Q) for sgi, count, Q in zip(sub_group_indices,counts, Q)]\n",
    "        if not as_dict:\n",
    "            return data\n",
    "        else:\n",
    "            return {sgi:(theta,Q) for sgi,theta,Q in data}\n",
    "\n",
    "    def theta_pure_i(self, i, as_dict = False):\n",
    "        \"\"\" List of theta values for the sub groups in pure fluid index i \"\"\"\n",
    "        sgi, X, Q = zip(*self.X_pure_i(i))\n",
    "        total = sum([_X*_Q for _X,_Q in zip(X, Q)])\n",
    "        data = [(sgi, X*Q/total) for sgi, X, Q in zip(sgi, X, Q)]\n",
    "        if not as_dict:\n",
    "            return data\n",
    "        else:\n",
    "            return {sgi:theta for sgi,theta in data}\n",
    "\n",
    "    def Psi_mn(self, sgi1, sgi2):\n",
    "        params = self.interaction[(sgi1,sgi2)]\n",
    "        return np.exp(-(params['aij'] + params['bij']*self.T + params['cij']*self.T**2)/self.T)\n",
    "\n",
    "    def lnGamma_pure_i(self, i):\n",
    "        sgi, X, Q = zip(*self.X_pure_i(i))\n",
    "        sgi, theta = zip(*self.theta_pure_i(i))\n",
    "        data = {}\n",
    "        for k, Qk in zip(sgi,Q):\n",
    "            sum1 = sum([thetam*self.Psi_mn(m,k) for m, thetam in zip(sgi, theta)])\n",
    "            s = 1-np.log(sum1)\n",
    "            sum2 = 0\n",
    "            for m,thetam in zip(sgi,theta):\n",
    "                s -= thetam*self.Psi_mn(k,m)/sum([thetan*self.Psi_mn(n,m) for n,thetan in zip(sgi,theta)])\n",
    "            data[k] = Qk*s\n",
    "        return data\n",
    "\n",
    "    def lnGamma_mix(self):\n",
    "        collec = {}\n",
    "        for pure in self.pures:\n",
    "            for g in pure:\n",
    "                sgi, count, Q = g['sub_group_index'],g['count'],g['Q_k']\n",
    "                if sgi not in collec:\n",
    "                    collec[sgi] = dict(count = count, Q = Q)\n",
    "                else:\n",
    "                    collec[sgi]['count'] += count\n",
    "        \n",
    "        # Total number of groups, weighted by the mole fraction\n",
    "        group_sum = np.sum(self.z*self.Ngroups)\n",
    "        print(group_sum)\n",
    "\n",
    "        X = {}\n",
    "        for sgi in self.sub_groups_present:\n",
    "            X[sgi] = sum([z*c for z,c in zip(self.z, self.subgroup_counts[sgi])])/group_sum\n",
    "\n",
    "        theta = {}\n",
    "        # Denominator of summation for theta\n",
    "        theta_summer = sum([X[sgi]*collec[sgi]['Q'] for sgi in self.sub_groups_present])\n",
    "\n",
    "        for sgi in self.sub_groups_present:\n",
    "            theta[sgi] = X[sgi]*collec[sgi]['Q']/theta_summer\n",
    "\n",
    "        lnGamma = {}\n",
    "        for k in self.sub_groups_present:\n",
    "            sum1 = sum([theta[m]*self.Psi_mn(m,k) for m in self.sub_groups_present])\n",
    "            s = 1-np.log(sum1)\n",
    "            sum2 = 0\n",
    "            for m in self.sub_groups_present:\n",
    "                s -= theta[m]*self.Psi_mn(k,m)/sum([theta[n]*self.Psi_mn(n,m) for n in self.sub_groups_present])\n",
    "            lnGamma[k] = collec[k]['Q']*s\n",
    "        \n",
    "        self.lnGamma = lnGamma\n",
    "        return lnGamma, X, theta\n",
    "\n",
    "    def ln_gamma_R(self, i):\n",
    "        summer = 0\n",
    "        for sgi in self.sub_groups_present:\n",
    "            for group in self.pures[i]:\n",
    "                if group['sub_group_index'] == sgi:\n",
    "                    summer += group['count']*(self.lnGamma[sgi] - self.lnGamma_pure_i(i)[sgi])\n",
    "        return summer\n",
    "\n",
    "# Example 8-12 from Poling et al., \"The Properties of Gases and Liquids (5th Edition)\"\n",
    "# Coefficients are obtained from the table of Horstmann, as attached in Excel spreadsheet\n",
    "CAS_Acetone = '67-64-1'\n",
    "CAS_Pentane = '109-66-0'\n",
    "z = [0.047, 1-0.047]\n",
    "T = 307 #[K]\n",
    "mix = UNIFAQMixture([CAS_Acetone,CAS_Pentane], z, T)\n",
    "# Collect all the data on the pure fluids\n",
    "pures = [mix.pure_i(i) for i in range(len(z))]\n",
    "# Turn a list of dicts of single values into a dict of lists\n",
    "flattened = {k:[pures[i][k] for i in range(len(z))] for k in pures[0].keys()}\n",
    "\n",
    "# Display the table of pure fluid values\n",
    "display(pandas.DataFrame(flattened))\n",
    "\n",
    "display(Math('\\\\ln\\\\gamma_{1}^C = ' + str(mix.ln_gamma_C[0])))\n",
    "display(Math('\\\\ln\\\\gamma_{1}^C = ' + str(mix.ln_gamma_C[1])))\n",
    "\n",
    "display(Math('X_1^{(1)} = ' + str(mix.X_pure_i(0, as_dict=True)[1][0])))\n",
    "display(Math('X_{18}^{(1)} = ' + str(mix.X_pure_i(0, as_dict=True)[18][0])))\n",
    "display(Math('\\\\theta_1^{(1)} = ' + str(mix.theta_pure_i(0, as_dict=True)[1])))\n",
    "display(Math('\\\\theta_{18}^{(1)} = ' + str(mix.theta_pure_i(0, as_dict=True)[18])))\n",
    "display(Math('\\\\ln\\\\Gamma_1^{(1)} = ' + str(mix.lnGamma_pure_i(0)[1])))\n",
    "display(Math('\\\\ln\\\\Gamma_{18}^{(1)} = ' + str(mix.lnGamma_pure_i(0)[18])))\n",
    "\n",
    "display(Math('X_1^{(2)} = ' + str(mix.X_pure_i(1, as_dict=True)[1][0])))\n",
    "display(Math('X_{2}^{(2)} = ' + str(mix.X_pure_i(1, as_dict=True)[2][0])))\n",
    "display(Math('\\\\theta_1^{(1)} = ' + str(mix.theta_pure_i(1, as_dict=True)[1])))\n",
    "display(Math('\\\\theta_{2}^{(1)} = ' + str(mix.theta_pure_i(1, as_dict=True)[2])))\n",
    "display(Math('\\\\ln\\\\Gamma_1^{(2)} = ' + str(mix.lnGamma_pure_i(1)[1])))\n",
    "display(Math('\\\\ln\\\\Gamma_{2}^{(2)} = ' + str(mix.lnGamma_pure_i(1)[2])))\n",
    "\n",
    "# For the mixture\n",
    "lnGamma, X, theta = mix.lnGamma_mix()\n",
    "for i in [1,2,18]:\n",
    "    display(Math('X_{'+str(i)+'} = ' + str(X[i])))\n",
    "for i in [1,2,18]:\n",
    "    display(Math('\\\\theta_{'+str(i)+'} = ' + str(theta[i])))\n",
    "for i in [1,2,18]:\n",
    "    display(Math('\\\\ln\\\\Gamma_{'+str(i)+'} = ' + str(lnGamma[i])))\n",
    "\n",
    "display(Math(r'\\ln\\gamma_1^{\\rm R} = ' + str(mix.ln_gamma_R(0))))\n",
    "display(Math(r'\\ln\\gamma_2^{\\rm R} = ' + str(mix.ln_gamma_R(1))))\n",
    "\n",
    "display(Math(r'\\gamma_1 = ' + str(np.exp(mix.ln_gamma_R(0) + mix.ln_gamma_C[0]))))\n",
    "display(Math(r'\\gamma_2 = ' + str(np.exp(mix.ln_gamma_R(1) + mix.ln_gamma_C[1]))))"
   ]
  },
  {
   "cell_type": "code",
   "execution_count": null,
   "metadata": {
    "collapsed": true
   },
   "outputs": [],
   "source": []
  }
 ],
 "metadata": {
  "kernelspec": {
   "display_name": "Python 2",
   "language": "python",
   "name": "python2"
  },
  "language_info": {
   "codemirror_mode": {
    "name": "ipython",
    "version": 2
   },
   "file_extension": ".py",
   "mimetype": "text/x-python",
   "name": "python",
   "nbconvert_exporter": "python",
   "pygments_lexer": "ipython2",
   "version": "2.7.11"
  }
 },
 "nbformat": 4,
 "nbformat_minor": 0
}
